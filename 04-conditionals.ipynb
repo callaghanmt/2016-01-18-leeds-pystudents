{
 "cells": [
  {
   "cell_type": "markdown",
   "metadata": {},
   "source": [
    "## Making Choices in Python"
   ]
  },
  {
   "cell_type": "code",
   "execution_count": 2,
   "metadata": {
    "collapsed": false
   },
   "outputs": [
    {
     "name": "stdout",
     "output_type": "stream",
     "text": [
      "greater\n",
      "done\n"
     ]
    }
   ],
   "source": [
    "num = 101\n",
    "if num > 100:\n",
    "    print ('greater')\n",
    "else:\n",
    "    print ('not greater')\n",
    "\n",
    "print ('done')"
   ]
  },
  {
   "cell_type": "code",
   "execution_count": 4,
   "metadata": {
    "collapsed": false
   },
   "outputs": [
    {
     "name": "stdout",
     "output_type": "stream",
     "text": [
      "greater than\n"
     ]
    }
   ],
   "source": [
    "#No else this time\n",
    "num = 101\n",
    "\n",
    "if num > 100:\n",
    "    print ('greater than')"
   ]
  },
  {
   "cell_type": "code",
   "execution_count": 7,
   "metadata": {
    "collapsed": false
   },
   "outputs": [
    {
     "name": "stdout",
     "output_type": "stream",
     "text": [
      "-3 is negative\n"
     ]
    }
   ],
   "source": [
    "#Chaining tests together\n",
    "num = -3\n",
    "\n",
    "if num > 0:\n",
    "    print (num, ' is positive')\n",
    "elif num == 0:\n",
    "    print (num, 'is zero')\n",
    "else:\n",
    "    print (num, 'is negative')"
   ]
  },
  {
   "cell_type": "code",
   "execution_count": 9,
   "metadata": {
    "collapsed": false
   },
   "outputs": [
    {
     "name": "stdout",
     "output_type": "stream",
     "text": [
      "Both parts are true\n"
     ]
    }
   ],
   "source": [
    "# Using the Boolean AND\n",
    "if (1>0) and (-1<0):\n",
    "    print ('Both parts are true')\n",
    "else:\n",
    "    print ('One or both parts are false')"
   ]
  },
  {
   "cell_type": "code",
   "execution_count": 10,
   "metadata": {
    "collapsed": false
   },
   "outputs": [
    {
     "name": "stdout",
     "output_type": "stream",
     "text": [
      "At least one test is true\n"
     ]
    }
   ],
   "source": [
    "# Using the OR\n",
    "if (1 < 0) or (-1 < 0):\n",
    "    print ('At least one test is true')"
   ]
  },
  {
   "cell_type": "markdown",
   "metadata": {},
   "source": [
    "## Checking the data"
   ]
  },
  {
   "cell_type": "code",
   "execution_count": 15,
   "metadata": {
    "collapsed": false
   },
   "outputs": [
    {
     "name": "stdout",
     "output_type": "stream",
     "text": [
      "Minima add up to zero\n"
     ]
    }
   ],
   "source": [
    "#Load in data and do some tests\n",
    "import numpy\n",
    "data = numpy.loadtxt(fname='data/weather-03.csv', delimiter = ',')\n",
    "\n",
    "if data.max(axis=0)[0]==0 and data.max(axis=0)[20]==20:\n",
    "    print('Suspicious maxima')\n",
    "elif data.min(axis=0).sum() == 0:\n",
    "    print('Minima add up to zero')\n",
    "else:\n",
    "    print('Seems OK')"
   ]
  },
  {
   "cell_type": "code",
   "execution_count": 16,
   "metadata": {
    "collapsed": false
   },
   "outputs": [
    {
     "name": "stdout",
     "output_type": "stream",
     "text": [
      "C\n"
     ]
    }
   ],
   "source": [
    "## Challenge 1:\n",
    "if 4 > 5:\n",
    "    print ('A')\n",
    "elif 4==5:\n",
    "    print ('B')\n",
    "elif 4 < 5:\n",
    "    print ('C')\n",
    "\n",
    "# What gets printed?"
   ]
  },
  {
   "cell_type": "code",
   "execution_count": null,
   "metadata": {
    "collapsed": true
   },
   "outputs": [],
   "source": [
    "# Challenge 2:\n",
    "# Using a FOR loop, automate the test above to check and comment on all of the data sets\n",
    "# It is not required to plot the data again\n",
    "#  Just display the filename and a comment"
   ]
  },
  {
   "cell_type": "code",
   "execution_count": 18,
   "metadata": {
    "collapsed": false
   },
   "outputs": [
    {
     "name": "stdout",
     "output_type": "stream",
     "text": [
      "data/weather-01.csv Suspicious maxima\n",
      "data/weather-02.csv Suspicious maxima\n",
      "data/weather-03.csv Minima add up to zero\n",
      "data/weather-04.csv Suspicious maxima\n",
      "data/weather-05.csv Suspicious maxima\n",
      "data/weather-06.csv Suspicious maxima\n",
      "data/weather-07.csv Suspicious maxima\n",
      "data/weather-08.csv Minima add up to zero\n",
      "data/weather-09.csv Suspicious maxima\n",
      "data/weather-10.csv Suspicious maxima\n",
      "data/weather-11.csv Minima add up to zero\n",
      "data/weather-12.csv Suspicious maxima\n"
     ]
    }
   ],
   "source": [
    "import glob\n",
    "filenames= glob.glob('data/we*.csv')\n",
    "for f in filenames:\n",
    "    data = numpy.loadtxt(fname= f, delimiter = ',')\n",
    "    if data.max(axis=0)[0]==0 and data.max(axis=0)[20]==20:\n",
    "        print(f,'Suspicious maxima')\n",
    "    elif data.min(axis=0).sum() == 0:\n",
    "        print(f,'Minima add up to zero')\n",
    "    else:\n",
    "        print(f,'Seems OK')"
   ]
  },
  {
   "cell_type": "code",
   "execution_count": null,
   "metadata": {
    "collapsed": true
   },
   "outputs": [],
   "source": []
  }
 ],
 "metadata": {
  "kernelspec": {
   "display_name": "Python 3",
   "language": "python",
   "name": "python3"
  },
  "language_info": {
   "codemirror_mode": {
    "name": "ipython",
    "version": 3
   },
   "file_extension": ".py",
   "mimetype": "text/x-python",
   "name": "python",
   "nbconvert_exporter": "python",
   "pygments_lexer": "ipython3",
   "version": "3.4.4"
  }
 },
 "nbformat": 4,
 "nbformat_minor": 0
}
