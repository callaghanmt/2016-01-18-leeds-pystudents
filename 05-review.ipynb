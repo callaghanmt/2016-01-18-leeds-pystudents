{
 "cells": [
  {
   "cell_type": "code",
   "execution_count": null,
   "metadata": {
    "collapsed": false
   },
   "outputs": [],
   "source": [
    "import numpy\n",
    "import glob\n",
    "filenames= glob.glob('data/we*.csv')\n",
    "for f in filenames:\n",
    "    data = numpy.loadtxt(fname= f, delimiter = ',')\n",
    "    if data.max(axis=0)[0]==0 and data.max(axis=0)[20]==20:\n",
    "        print(f,'Suspicious maxima')\n",
    "    elif data.min(axis=0).sum() == 0:\n",
    "        print(f,'Minima add up to zero')\n",
    "    else:\n",
    "        print(f,'Seems OK')"
   ]
  },
  {
   "cell_type": "code",
   "execution_count": null,
   "metadata": {
    "collapsed": true
   },
   "outputs": [],
   "source": []
  }
 ],
 "metadata": {
  "kernelspec": {
   "display_name": "Python 3",
   "language": "python",
   "name": "python3"
  },
  "language_info": {
   "codemirror_mode": {
    "name": "ipython",
    "version": 3
   },
   "file_extension": ".py",
   "mimetype": "text/x-python",
   "name": "python",
   "nbconvert_exporter": "python",
   "pygments_lexer": "ipython3",
   "version": "3.4.3"
  }
 },
 "nbformat": 4,
 "nbformat_minor": 0
}
